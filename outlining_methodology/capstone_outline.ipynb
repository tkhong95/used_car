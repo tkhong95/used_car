{
 "cells": [
  {
   "cell_type": "markdown",
   "id": "da595a5c-25e3-4991-8ace-4b2545992315",
   "metadata": {},
   "source": [
    "# Capstone Project"
   ]
  },
  {
   "cell_type": "markdown",
   "id": "a721cab9-ef98-4cb6-aab9-59485a53d70d",
   "metadata": {},
   "source": [
    "## Outlining Methodology"
   ]
  },
  {
   "cell_type": "markdown",
   "id": "f36837cf-81fa-448d-829b-0958a790dd68",
   "metadata": {},
   "source": [
    "### 1. Problem Statement\n",
    "* What type of car will be a good choice when he/she is planing on buying a car base on he/she loan amount? \n",
    "* Predict who get approve or reject for loan.\n",
    "* Build a recommender model "
   ]
  },
  {
   "cell_type": "markdown",
   "id": "d2f14b25-f0ed-45f0-a295-7c7f5e3a15d0",
   "metadata": {},
   "source": [
    "### 2. Dataset\n",
    "* Need a dataset about loan approve or reject.\n",
    "* https://www.kaggle.com/datasets/devzohaib/eligibility-prediction-for-loan\n",
    "* Need a dataset about car.\n",
    "* http://developer.kbb.com/#!/idws/1-Default (thanks Eric)\n",
    "\n",
    "* Please help me on finding dataset \n"
   ]
  },
  {
   "cell_type": "markdown",
   "id": "423c2e6e-a6b3-41a9-a8ab-cb5b0c85303b",
   "metadata": {},
   "source": [
    "### 3. Modeling \n",
    "* Predict who get approve for a loan when buy a car\n",
    "* Neural Network, AdaBoost Classification, Naive Bayes\n",
    "* Build a dataset for recommender."
   ]
  },
  {
   "cell_type": "code",
   "execution_count": null,
   "id": "85cb3725-76fb-40be-be82-b302391b64b6",
   "metadata": {},
   "outputs": [],
   "source": []
  }
 ],
 "metadata": {
  "kernelspec": {
   "display_name": "Python 3 (ipykernel)",
   "language": "python",
   "name": "python3"
  },
  "language_info": {
   "codemirror_mode": {
    "name": "ipython",
    "version": 3
   },
   "file_extension": ".py",
   "mimetype": "text/x-python",
   "name": "python",
   "nbconvert_exporter": "python",
   "pygments_lexer": "ipython3",
   "version": "3.11.4"
  }
 },
 "nbformat": 4,
 "nbformat_minor": 5
}
