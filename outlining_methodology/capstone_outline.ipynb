{
 "cells": [
  {
   "cell_type": "markdown",
   "id": "da595a5c-25e3-4991-8ace-4b2545992315",
   "metadata": {},
   "source": [
    "# Capstone Project"
   ]
  },
  {
   "cell_type": "markdown",
   "id": "a721cab9-ef98-4cb6-aab9-59485a53d70d",
   "metadata": {},
   "source": [
    "## Outlining Methodology"
   ]
  },
  {
   "cell_type": "markdown",
   "id": "f36837cf-81fa-448d-829b-0958a790dd68",
   "metadata": {},
   "source": [
    "### 1. Problem Statement\n",
    "* Who will get a loan approvement when they are planning to buy a car?\n",
    "* Predict who get approve or reject for loan when buy a car."
   ]
  },
  {
   "cell_type": "markdown",
   "id": "d2f14b25-f0ed-45f0-a295-7c7f5e3a15d0",
   "metadata": {},
   "source": [
    "### 2. Dataset\n",
    "* Cannot find the dataset\n",
    "* Please help me on finding dataset\n",
    "* https://www.kaggle.com/datasets/mohidabdulrehman/ultimate-car-price-prediction-dataset\n",
    "* https://www.kaggle.com/datasets/rohitudageri/credit-card-details\n",
    "* I do not know if the data I found is useful for this project."
   ]
  },
  {
   "cell_type": "markdown",
   "id": "423c2e6e-a6b3-41a9-a8ab-cb5b0c85303b",
   "metadata": {},
   "source": [
    "### 3. Modeling \n",
    "* Predict who get approve for a loan when buy a car\n",
    "* Neural Network, AdaBoost Classification, Naive Bayes\n",
    "\n"
   ]
  },
  {
   "cell_type": "code",
   "execution_count": null,
   "id": "85cb3725-76fb-40be-be82-b302391b64b6",
   "metadata": {},
   "outputs": [],
   "source": []
  }
 ],
 "metadata": {
  "kernelspec": {
   "display_name": "Python 3 (ipykernel)",
   "language": "python",
   "name": "python3"
  },
  "language_info": {
   "codemirror_mode": {
    "name": "ipython",
    "version": 3
   },
   "file_extension": ".py",
   "mimetype": "text/x-python",
   "name": "python",
   "nbconvert_exporter": "python",
   "pygments_lexer": "ipython3",
   "version": "3.11.4"
  }
 },
 "nbformat": 4,
 "nbformat_minor": 5
}
